{
 "cells": [
  {
   "cell_type": "code",
   "execution_count": 1,
   "metadata": {},
   "outputs": [],
   "source": [
    "\"将文本 embedding 后存入数据库\"\n",
    "\n",
    "from embedding import TextEmbeddingModel\n",
    "from pymilvus import MilvusClient\n",
    "from pathlib import Path\n",
    "import os"
   ]
  },
  {
   "cell_type": "code",
   "execution_count": 2,
   "metadata": {},
   "outputs": [],
   "source": [
    "path=Path(\"raw_data/Plonk It 教程汉化\")"
   ]
  },
  {
   "cell_type": "code",
   "execution_count": 3,
   "metadata": {},
   "outputs": [],
   "source": [
    "embedding_model = TextEmbeddingModel()"
   ]
  },
  {
   "cell_type": "code",
   "execution_count": null,
   "metadata": {},
   "outputs": [],
   "source": [
    "# def sentence_level_split(text: str):\n",
    "#     \"\"\"\n",
    "#     将文本按句子分割\n",
    "#     \"\"\"\n",
    "#     docs = text.split(\"。\")\n",
    "#     return docs"
   ]
  },
  {
   "cell_type": "code",
   "execution_count": 2,
   "metadata": {},
   "outputs": [],
   "source": [
    "client = MilvusClient(uri=\"data/milvus_demo.db\")"
   ]
  },
  {
   "cell_type": "code",
   "execution_count": 5,
   "metadata": {},
   "outputs": [],
   "source": [
    "if client.has_collection(collection_name=\"Tuxun_1\"):\n",
    "    client.drop_collection(collection_name=\"Tuxun_1\")\n",
    "    \n",
    "client.create_collection(collection_name=\"Tuxun_1\", dimension=768)"
   ]
  },
  {
   "cell_type": "code",
   "execution_count": 10,
   "metadata": {},
   "outputs": [
    {
     "name": "stdout",
     "output_type": "stream",
     "text": [
      "Insert 南极洲 into Milvus\n",
      "Insert 系列教程简介 into Milvus\n",
      "Insert 危地马拉 into Milvus\n",
      "Insert 百慕大 into Milvus\n",
      "Insert 多米尼加 into Milvus\n",
      "Insert 巴拿马 into Milvus\n",
      "Insert 加拿大 into Milvus\n",
      "Insert 圣皮埃尔和密克隆 into Milvus\n",
      "Insert 哥斯达黎加 into Milvus\n",
      "Insert 墨西哥 into Milvus\n",
      "Insert 格陵兰 into Milvus\n",
      "Insert 马提尼克 into Milvus\n",
      "Insert 马耳他 into Milvus\n",
      "Insert 英国 into Milvus\n",
      "Insert 白俄罗斯 into Milvus\n",
      "Insert 希腊 into Milvus\n",
      "Insert 匈牙利 into Milvus\n",
      "Insert 泽西 into Milvus\n",
      "Insert 立陶宛 into Milvus\n",
      "Insert 西班牙 into Milvus\n",
      "Insert 法罗群岛 into Milvus\n",
      "Insert 乌克兰 into Milvus\n",
      "Insert 芬兰 into Milvus\n",
      "Insert 保加利亚 into Milvus\n",
      "Insert 奥地利 into Milvus\n",
      "Insert 克罗地亚 into Milvus\n",
      "Insert 法国 into Milvus\n",
      "Insert 荷兰 into Milvus\n",
      "Insert 德国 into Milvus\n",
      "Insert 罗马尼亚 into Milvus\n",
      "Insert 塞尔维亚 into Milvus\n",
      "Insert 丹麦 into Milvus\n",
      "Insert 安道尔 into Milvus\n",
      "Insert 爱尔兰 into Milvus\n",
      "Insert 斯洛文尼亚 into Milvus\n",
      "Insert 黑山 into Milvus\n",
      "Insert 捷克 into Milvus\n",
      "Insert 直布罗陀 into Milvus\n",
      "Insert 拉脱维亚 into Milvus\n",
      "Insert 列支敦士登 into Milvus\n",
      "Insert 马恩岛 into Milvus\n",
      "Insert 阿尔巴尼亚 into Milvus\n",
      "Insert 摩纳哥 into Milvus\n",
      "Insert 北马其顿 into Milvus\n",
      "Insert 斯洛伐克 into Milvus\n",
      "Insert 意大利 into Milvus\n",
      "Insert 卢森堡 into Milvus\n",
      "Insert 瑞典 into Milvus\n",
      "Insert 斯瓦尔巴群岛 into Milvus\n",
      "Insert 瑞士 into Milvus\n",
      "Insert 冰岛 into Milvus\n",
      "Insert 比利时 into Milvus\n",
      "Insert 挪威 into Milvus\n",
      "Insert 圣马力诺 into Milvus\n",
      "Insert 波兰 into Milvus\n",
      "Insert 爱沙尼亚 into Milvus\n",
      "Insert 俄罗斯 into Milvus\n",
      "Insert 葡萄牙 into Milvus\n",
      "Insert 土耳其 into Milvus\n",
      "Insert 跨国越境街景 into Milvus\n",
      "Insert 中土世界 into Milvus\n",
      "Insert 南乔治亚和南桑威奇群岛 into Milvus\n",
      "Insert 玻利维亚 into Milvus\n",
      "Insert 厄瓜多尔 into Milvus\n",
      "Insert 巴西 into Milvus\n",
      "Insert 秘鲁 into Milvus\n",
      "Insert 乌拉圭 into Milvus\n",
      "Insert 阿根廷 into Milvus\n",
      "Insert 智利 into Milvus\n",
      "Insert 库拉索 into Milvus\n",
      "Insert 哥伦比亚 into Milvus\n",
      "Insert 福克兰群岛 into Milvus\n",
      "Insert 关岛 into Milvus\n",
      "Insert 瓦努阿图 into Milvus\n",
      "Insert 新西兰 into Milvus\n",
      "Insert 北马里亚纳群岛 into Milvus\n",
      "Insert 科科斯群岛 into Milvus\n",
      "Insert 皮特凯恩群岛 into Milvus\n",
      "Insert 澳大利亚 into Milvus\n",
      "Insert 圣诞岛 into Milvus\n",
      "Insert 美属萨摩亚 into Milvus\n",
      "Insert 肯尼亚 into Milvus\n",
      "Insert 卢旺达 into Milvus\n",
      "Insert 博茨瓦纳 into Milvus\n",
      "Insert 加纳 into Milvus\n",
      "Insert 乌干达 into Milvus\n",
      "Insert 突尼斯 into Milvus\n",
      "Insert 圣多美和普林西比 into Milvus\n",
      "Insert 马达加斯加 into Milvus\n",
      "Insert 马里 into Milvus\n",
      "Insert 塞内加尔 into Milvus\n",
      "Insert 南非 into Milvus\n",
      "Insert 留尼汪 into Milvus\n",
      "Insert 坦桑尼亚 into Milvus\n",
      "Insert 莱索托 into Milvus\n",
      "Insert 斯威士兰 into Milvus\n",
      "Insert 尼日利亚 into Milvus\n",
      "Insert 埃及 into Milvus\n",
      "Insert 印度 into Milvus\n",
      "Insert 伊拉克 into Milvus\n",
      "Insert 中华人民共和国 into Milvus\n",
      "Insert 老挝 into Milvus\n",
      "Insert 韩国 into Milvus\n",
      "Insert 新加坡 into Milvus\n",
      "Insert 英属印度洋领地 into Milvus\n",
      "Insert 马来西亚 into Milvus\n",
      "Insert 柬埔寨 into Milvus\n",
      "Insert 尼泊尔 into Milvus\n",
      "Insert 黎巴嫩 into Milvus\n",
      "Insert 哈萨克斯坦 into Milvus\n",
      "Insert 阿拉伯联合酋长国 into Milvus\n",
      "Insert 孟加拉国 into Milvus\n",
      "Insert 巴以地区 into Milvus\n",
      "Insert 日本 into Milvus\n",
      "Insert 不丹 into Milvus\n",
      "Insert 菲律宾 into Milvus\n",
      "Insert 卡塔尔 into Milvus\n",
      "Insert 斯里兰卡 into Milvus\n",
      "Insert 印度尼西亚 into Milvus\n",
      "Insert 巴基斯坦 into Milvus\n",
      "Insert 蒙古 into Milvus\n",
      "Insert 泰国 into Milvus\n",
      "Insert 吉尔吉斯斯坦 into Milvus\n",
      "Insert 约旦 into Milvus\n",
      "Insert 阿曼 into Milvus\n",
      "Insert 波多黎各 into Milvus\n",
      "Insert 阿拉斯加 into Milvus\n",
      "Insert 美国本土外小岛屿 into Milvus\n",
      "Insert 夏威夷 into Milvus\n",
      "Insert 美国本土 into Milvus\n",
      "Insert 美属维尔京群岛 into Milvus\n",
      "Insert 马德拉群岛 into Milvus\n",
      "Insert 亚速尔群岛 into Milvus\n"
     ]
    }
   ],
   "source": [
    "for filename in path.rglob('*.txt'):\n",
    "    country = os.path.basename(filename).split('.')[0].split('_')[0]\n",
    "    with open(filename, 'r', encoding='utf-8') as f:\n",
    "        texts = f.read()\n",
    "    # docs = sentence_level_split(text)\n",
    "    data = []\n",
    "\n",
    "    for i, text in enumerate([texts]):\n",
    "        data.append(\n",
    "            {\n",
    "                \"id\": i,\n",
    "                \"text\": text,\n",
    "                \"vector\": embedding_model.encode_text(text=text),\n",
    "                \"country\": country\n",
    "            }\n",
    "        )\n",
    "    \n",
    "    client.insert(collection_name=\"Tuxun_1\", data=data)\n",
    "    print(f\"Insert {country} into Milvus\")\n"
   ]
  },
  {
   "cell_type": "code",
   "execution_count": 16,
   "metadata": {},
   "outputs": [
    {
     "data": {
      "text/plain": [
       "[{'id': 0,\n",
       "  'distance': 0.5489075779914856,\n",
       "  'entity': {'text': '第一步——辨别斯洛文尼亚斯洛文尼亚的景观通常是多山的，有大量植被覆盖。农业用地偶尔可见。>在区域猜测章节可以看到例外。>斯洛文尼亚建筑很大程度上受到了阿尔卑斯式建筑的影响，它带有浅色的墙壁，深色木制的细部设计和缓斜的屋顶。其中最常见的屋顶形式是半斜脊式的。斯洛文尼亚语是一门包含特殊字母Č,č，Š,š和Ž,ž的斯拉夫语言。其与克罗地亚，塞尔维亚和黑山的语言有紧密联系。>除了拥有斯洛文尼亚语所拥有的字母之外，克罗地亚语还包含字母Ć和Đ。>斯洛文尼亚路桩是黑顶白色的，前部反光条为亮红色，后部则为白色。>奥地利的路桩采用相似的设计，不过前部反光条为暗红色，后部为黑色或灰色。>斯洛文尼亚的指路标志为黄底黑字，并附带黑色边框。>克罗地亚，塞尔维亚，北马其顿和黑山具有相似的指路标志，而奥地利的通常为白底，并带有蓝色边框。>斯洛文尼亚的里程碑设计十分独特。左上角黄色方框内为道路编号，第二数字在其右侧。一条横置的黑线区分上下两部分，公里数展示在下部。>奥地利的公里标识是蓝底白字。>>奥地利采用红底白箭头或黄底红箭头。>斯洛文尼亚的人行横道标识拥有五条黑线，上面的人物十分简单，没有腰带。>奥地利的人行横道标识有两条平行虚线，而克罗地亚的人物有腰带。>斯洛文尼亚的路牌通常是白色带金属边，或红色且附着于墙上。>捷克的路牌同样经常附着在墙上且为红色，但其路名中不会带有大多数斯洛文尼亚街道带有的“ulica”。>斯洛文尼亚的门牌通常是红底白字。>捷克的门牌也通常是红色的。>与许多欧洲国家相同，斯洛文尼亚采用常规的A形护栏。这种护栏带有圆角的边缘。这在与克罗地亚的两难选择中十分有用，克罗地亚主要采用方形的B形护栏。这种由细木条搭建而成的农舍（称作kozolec）在斯洛文尼亚十分常见。第二步——地区线索斯洛文尼亚最高的山在西北部阿尔卑斯山区可见。没有高山或山丘，平坦或起伏的农业用地在国家东北部可见。斯洛文尼亚的海岸地带属于常规的亚得里亚海沿岸景观——白色的峭壁，灌木为主的植被，葡萄园和地中海式建筑。东南部有一条东西向的宽广峡谷，南北侧都有山脉。带意大利语的双语标识在国家的最西部可见。第三步——聚焦与常规的红色不同，卢布尔雅那的房屋标号为绿色。>卢布尔雅那的路牌偶尔也为绿色。>采列的路牌带有城市的徽标——带三颗黄色六角星的蓝色盾徽。与采列相似，特尔波夫列的路牌同样带有城市的纹章——蓝绿色盾徽和黑色的纹饰。第四步——地图与资源[「AI生成-斯洛文尼亚Slovenia」][「奥地利还是斯洛文尼亚：最终决定版」]>译者｜新堀Rudolf>>原文｜[斯洛文尼亚]>',\n",
       "   'country': '斯洛文尼亚',\n",
       "   'id': 0}}]"
      ]
     },
     "execution_count": 16,
     "metadata": {},
     "output_type": "execute_result"
    }
   ],
   "source": [
    "query_text = \"斯洛文尼亚\"\n",
    "query_vector = embedding_model.encode_text(query_text)\n",
    "\n",
    "res = client.search(\n",
    "    collection_name=\"Tuxun_1\",\n",
    "    data=[query_vector],\n",
    "    top_k=5,\n",
    "    output_fields=['id', 'text', 'country'],\n",
    ")\n",
    "\n",
    "res[0]"
   ]
  }
 ],
 "metadata": {
  "kernelspec": {
   "display_name": "rag-project-XkUU89mO-py3.12",
   "language": "python",
   "name": "python3"
  },
  "language_info": {
   "codemirror_mode": {
    "name": "ipython",
    "version": 3
   },
   "file_extension": ".py",
   "mimetype": "text/x-python",
   "name": "python",
   "nbconvert_exporter": "python",
   "pygments_lexer": "ipython3",
   "version": "3.12.3"
  }
 },
 "nbformat": 4,
 "nbformat_minor": 2
}
