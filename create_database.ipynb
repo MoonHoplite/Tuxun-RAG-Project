{
 "cells": [
  {
   "cell_type": "code",
   "execution_count": 1,
   "metadata": {},
   "outputs": [],
   "source": [
    "\"将文本 embedding 后存入数据库\"\n",
    "\n",
    "from embedding import TextEmbeddingModel\n",
    "from pymilvus import MilvusClient\n",
    "from pathlib import Path\n",
    "import os"
   ]
  },
  {
   "cell_type": "code",
   "execution_count": 2,
   "metadata": {},
   "outputs": [],
   "source": [
    "path=Path(\"raw_data/Plonk It 教程汉化\")"
   ]
  },
  {
   "cell_type": "code",
   "execution_count": 3,
   "metadata": {},
   "outputs": [
    {
     "name": "stdout",
     "output_type": "stream",
     "text": [
      "Model loaded successfully.\n"
     ]
    }
   ],
   "source": [
    "embedding_model = TextEmbeddingModel()"
   ]
  },
  {
   "cell_type": "code",
   "execution_count": 4,
   "metadata": {},
   "outputs": [],
   "source": [
    "def sentence_level_split(text: str):\n",
    "    \"\"\"\n",
    "    将文本按句子分割\n",
    "    \"\"\"\n",
    "    docs = text.split(\"。\")\n",
    "    return docs"
   ]
  },
  {
   "cell_type": "code",
   "execution_count": 5,
   "metadata": {},
   "outputs": [],
   "source": [
    "client = MilvusClient(uri=\"data/milvus_demo.db\")"
   ]
  },
  {
   "cell_type": "code",
   "execution_count": 6,
   "metadata": {},
   "outputs": [],
   "source": [
    "if client.has_collection(collection_name=\"Tuxun\"):\n",
    "    client.drop_collection(collection_name=\"Tuxun\")\n",
    "    \n",
    "client.create_collection(collection_name=\"Tuxun\", dimension=768)"
   ]
  },
  {
   "cell_type": "code",
   "execution_count": 7,
   "metadata": {},
   "outputs": [
    {
     "name": "stdout",
     "output_type": "stream",
     "text": [
      "Insert 南极洲 into Milvus\n",
      "Insert 系列教程简介 into Milvus\n",
      "Insert 危地马拉 into Milvus\n",
      "Insert 百慕大 into Milvus\n",
      "Insert 多米尼加 into Milvus\n",
      "Insert 巴拿马 into Milvus\n",
      "Insert 加拿大 into Milvus\n",
      "Insert 圣皮埃尔和密克隆 into Milvus\n",
      "Insert 哥斯达黎加 into Milvus\n",
      "Insert 墨西哥 into Milvus\n",
      "Insert 格陵兰 into Milvus\n",
      "Insert 马提尼克 into Milvus\n",
      "Insert 马耳他 into Milvus\n",
      "Insert 英国 into Milvus\n",
      "Insert 白俄罗斯 into Milvus\n",
      "Insert 希腊 into Milvus\n",
      "Insert 匈牙利 into Milvus\n",
      "Insert 泽西 into Milvus\n",
      "Insert 立陶宛 into Milvus\n",
      "Insert 西班牙 into Milvus\n",
      "Insert 法罗群岛 into Milvus\n",
      "Insert 乌克兰 into Milvus\n",
      "Insert 芬兰 into Milvus\n",
      "Insert 保加利亚 into Milvus\n",
      "Insert 奥地利 into Milvus\n",
      "Insert 克罗地亚 into Milvus\n",
      "Insert 法国 into Milvus\n",
      "Insert 荷兰 into Milvus\n",
      "Insert 德国 into Milvus\n",
      "Insert 罗马尼亚 into Milvus\n",
      "Insert 塞尔维亚 into Milvus\n",
      "Insert 丹麦 into Milvus\n",
      "Insert 安道尔 into Milvus\n",
      "Insert 爱尔兰 into Milvus\n",
      "Insert 斯洛文尼亚 into Milvus\n",
      "Insert 黑山 into Milvus\n",
      "Insert 捷克 into Milvus\n",
      "Insert 直布罗陀 into Milvus\n",
      "Insert 拉脱维亚 into Milvus\n",
      "Insert 列支敦士登 into Milvus\n",
      "Insert 马恩岛 into Milvus\n",
      "Insert 阿尔巴尼亚 into Milvus\n",
      "Insert 摩纳哥 into Milvus\n",
      "Insert 北马其顿 into Milvus\n",
      "Insert 斯洛伐克 into Milvus\n",
      "Insert 意大利 into Milvus\n",
      "Insert 卢森堡 into Milvus\n",
      "Insert 瑞典 into Milvus\n",
      "Insert 斯瓦尔巴群岛 into Milvus\n",
      "Insert 瑞士 into Milvus\n",
      "Insert 冰岛 into Milvus\n",
      "Insert 比利时 into Milvus\n",
      "Insert 挪威 into Milvus\n",
      "Insert 圣马力诺 into Milvus\n",
      "Insert 波兰 into Milvus\n",
      "Insert 爱沙尼亚 into Milvus\n",
      "Insert 俄罗斯 into Milvus\n",
      "Insert 葡萄牙 into Milvus\n",
      "Insert 土耳其 into Milvus\n",
      "Insert 跨国越境街景 into Milvus\n",
      "Insert 中土世界 into Milvus\n",
      "Insert 南乔治亚和南桑威奇群岛 into Milvus\n",
      "Insert 玻利维亚 into Milvus\n",
      "Insert 厄瓜多尔 into Milvus\n",
      "Insert 巴西 into Milvus\n",
      "Insert 秘鲁 into Milvus\n",
      "Insert 乌拉圭 into Milvus\n",
      "Insert 阿根廷 into Milvus\n",
      "Insert 智利 into Milvus\n",
      "Insert 库拉索 into Milvus\n",
      "Insert 哥伦比亚 into Milvus\n",
      "Insert 福克兰群岛 into Milvus\n",
      "Insert 关岛 into Milvus\n",
      "Insert 瓦努阿图 into Milvus\n",
      "Insert 新西兰 into Milvus\n",
      "Insert 北马里亚纳群岛 into Milvus\n",
      "Insert 科科斯群岛 into Milvus\n",
      "Insert 皮特凯恩群岛 into Milvus\n",
      "Insert 澳大利亚 into Milvus\n",
      "Insert 圣诞岛 into Milvus\n",
      "Insert 美属萨摩亚 into Milvus\n",
      "Insert 肯尼亚 into Milvus\n",
      "Insert 卢旺达 into Milvus\n",
      "Insert 博茨瓦纳 into Milvus\n",
      "Insert 加纳 into Milvus\n",
      "Insert 乌干达 into Milvus\n",
      "Insert 突尼斯 into Milvus\n",
      "Insert 圣多美和普林西比 into Milvus\n",
      "Insert 马达加斯加 into Milvus\n",
      "Insert 马里 into Milvus\n",
      "Insert 塞内加尔 into Milvus\n",
      "Insert 南非 into Milvus\n",
      "Insert 留尼汪 into Milvus\n",
      "Insert 坦桑尼亚 into Milvus\n",
      "Insert 莱索托 into Milvus\n",
      "Insert 斯威士兰 into Milvus\n",
      "Insert 尼日利亚 into Milvus\n",
      "Insert 埃及 into Milvus\n",
      "Insert 印度 into Milvus\n",
      "Insert 伊拉克 into Milvus\n",
      "Insert 中华人民共和国 into Milvus\n",
      "Insert 老挝 into Milvus\n",
      "Insert 韩国 into Milvus\n",
      "Insert 新加坡 into Milvus\n",
      "Insert 英属印度洋领地 into Milvus\n",
      "Insert 马来西亚 into Milvus\n",
      "Insert 柬埔寨 into Milvus\n",
      "Insert 尼泊尔 into Milvus\n",
      "Insert 黎巴嫩 into Milvus\n",
      "Insert 哈萨克斯坦 into Milvus\n",
      "Insert 阿拉伯联合酋长国 into Milvus\n",
      "Insert 孟加拉国 into Milvus\n",
      "Insert 巴以地区 into Milvus\n",
      "Insert 日本 into Milvus\n",
      "Insert 不丹 into Milvus\n",
      "Insert 菲律宾 into Milvus\n",
      "Insert 卡塔尔 into Milvus\n",
      "Insert 斯里兰卡 into Milvus\n",
      "Insert 印度尼西亚 into Milvus\n",
      "Insert 巴基斯坦 into Milvus\n",
      "Insert 蒙古 into Milvus\n",
      "Insert 泰国 into Milvus\n",
      "Insert 吉尔吉斯斯坦 into Milvus\n",
      "Insert 约旦 into Milvus\n",
      "Insert 阿曼 into Milvus\n",
      "Insert 波多黎各 into Milvus\n",
      "Insert 阿拉斯加 into Milvus\n",
      "Insert 美国本土外小岛屿 into Milvus\n",
      "Insert 夏威夷 into Milvus\n",
      "Insert 美国本土 into Milvus\n",
      "Insert 美属维尔京群岛 into Milvus\n",
      "Insert 马德拉群岛 into Milvus\n",
      "Insert 亚速尔群岛 into Milvus\n"
     ]
    }
   ],
   "source": [
    "for filename in path.rglob('*.txt'):\n",
    "    country = os.path.basename(filename).split('.')[0].split('_')[0]\n",
    "    with open(filename, 'r', encoding='utf-8') as f:\n",
    "        text = f.read()\n",
    "    docs = sentence_level_split(text)\n",
    "    data = []\n",
    "\n",
    "    for i, text in enumerate(docs):\n",
    "        data.append(\n",
    "            {\n",
    "                \"id\": i,\n",
    "                \"text\": text,\n",
    "                \"vector\": embedding_model.encode_text(text=text),\n",
    "                \"country\": country\n",
    "            }\n",
    "        )\n",
    "    \n",
    "    client.insert(collection_name=\"Tuxun\", data=data)\n",
    "    print(f\"Insert {country} into Milvus\")\n"
   ]
  },
  {
   "cell_type": "code",
   "execution_count": 16,
   "metadata": {},
   "outputs": [
    {
     "data": {
      "text/plain": [
       "[{'id': 142,\n",
       "  'distance': 0.7767966389656067,\n",
       "  'entity': {'text': '汽车向西行驶', 'country': '吉尔吉斯斯坦', 'id': 142}},\n",
       " {'id': 3,\n",
       "  'distance': 0.7220199108123779,\n",
       "  'entity': {'text': '印度的行驶方向靠左', 'country': '印度', 'id': 3}},\n",
       " {'id': 73,\n",
       "  'distance': 0.7160661220550537,\n",
       "  'entity': {'text': '左部分告诉您现在所在的道路', 'country': '德国', 'id': 73}},\n",
       " {'id': 132,\n",
       "  'distance': 0.7116327285766602,\n",
       "  'entity': {'text': '汽车向东行驶（在最后一段向南行驶）', 'country': '吉尔吉斯斯坦', 'id': 132}},\n",
       " {'id': 18,\n",
       "  'distance': 0.6908431649208069,\n",
       "  'entity': {'text': '判断之前一定要检查车是左行还是右行', 'country': '泰国', 'id': 18}},\n",
       " {'id': 29,\n",
       "  'distance': 0.6888465881347656,\n",
       "  'entity': {'text': '>>香港车辆靠左侧行驶', 'country': '中华人民共和国', 'id': 29}},\n",
       " {'id': 21,\n",
       "  'distance': 0.6642300486564636,\n",
       "  'entity': {'text': '路号显示在左侧', 'country': '斯洛伐克', 'id': 21}},\n",
       " {'id': 6,\n",
       "  'distance': 0.660936713218689,\n",
       "  'entity': {'text': '>左行澳大利亚规定在路的左边开车', 'country': '澳大利亚', 'id': 6}},\n",
       " {'id': 53,\n",
       "  'distance': 0.6567873358726501,\n",
       "  'entity': {'text': '这条路是东-西和西北-东南走向的', 'country': '塞内加尔', 'id': 53}}]"
      ]
     },
     "execution_count": 16,
     "metadata": {},
     "output_type": "execute_result"
    }
   ],
   "source": [
    "query_text = \"靠左行驶\"\n",
    "query_vector = embedding_model.encode_text(query_text)\n",
    "\n",
    "res = client.search(\n",
    "    collection_name=\"Tuxun\",\n",
    "    data=[query_vector],\n",
    "    top_k=5,\n",
    "    output_fields=['id', 'text', 'country'],\n",
    ")\n",
    "\n",
    "res[0]"
   ]
  }
 ],
 "metadata": {
  "kernelspec": {
   "display_name": "rag-project-XkUU89mO-py3.12",
   "language": "python",
   "name": "python3"
  },
  "language_info": {
   "codemirror_mode": {
    "name": "ipython",
    "version": 3
   },
   "file_extension": ".py",
   "mimetype": "text/x-python",
   "name": "python",
   "nbconvert_exporter": "python",
   "pygments_lexer": "ipython3",
   "version": "3.12.3"
  }
 },
 "nbformat": 4,
 "nbformat_minor": 2
}
