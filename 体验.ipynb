{
 "cells": [
  {
   "cell_type": "code",
   "execution_count": 1,
   "metadata": {},
   "outputs": [
    {
     "name": "stdout",
     "output_type": "stream",
     "text": [
      "Model loaded successfully!\n"
     ]
    }
   ],
   "source": [
    "from inference import Inference\n",
    "from pymilvus import MilvusClient\n",
    "from embedding import TextEmbeddingModel\n",
    "from openai import OpenAI\n",
    "\n",
    "\n",
    "database_client = MilvusClient(\"data/milvus_demo.db\")\n",
    "embedding_model = TextEmbeddingModel()\n",
    "\n",
    "API_KEY = \"sk-4eef92640d7d4aac9e06cf769dbd883a\"\n",
    "chatting_client = OpenAI(   \n",
    "    # 若没有配置环境变量，请用百炼API Key将下行替换为：api_key=\"sk-xxx\",\n",
    "    api_key=API_KEY,\n",
    "    base_url=\"https://dashscope.aliyuncs.com/compatible-mode/v1\",\n",
    ")\n",
    "\n",
    "pipe = Inference(database_client, embedding_model, chatting_client)\n",
    "\n",
    "# while True:\n",
    "#     user_clue = input()\n",
    "#     if user_clue == \"exit\":\n",
    "#         print(\"Goodbye!\")\n",
    "#         break\n",
    "#     response = pipe.pipe(user_clue)\n",
    "#     print(response)"
   ]
  },
  {
   "cell_type": "code",
   "execution_count": 5,
   "metadata": {},
   "outputs": [
    {
     "name": "stdout",
     "output_type": "stream",
     "text": [
      "根据您描述的特征——全白色的道路标线，以及沙漠地貌且看不到一点植物——这似乎指向了一个具有明显沙漠景观的地方。从给定的信息来看，**约旦**和**哈萨克斯坦**都有提到与沙漠相关的环境特点。但是，特别指出“道路标线全部都是白色的”这一条件更符合加纳的情况说明。然而，加纳通常并不以沙漠地貌著称；它更多地被热带雨林覆盖。\n",
      "\n",
      "如果仅依据“全白色的道路标线”和“沙漠地貌”的描述来猜测国家，那么最接近的答案可能是**约旦**，因为该国确实拥有广泛的沙漠区域，并且上述信息中没有直接提及约旦的道路标线颜色，但其自然环境与您的描述最为匹配。\n",
      "\n",
      "不过，请注意，实际情况可能会有所不同，因为很多国家都可能有白色的道路标线及部分地区的沙漠景观。如果您有更多的细节或具体位置信息，可能会帮助进一步缩小范围。\n"
     ]
    }
   ],
   "source": [
    "user_clue = \"这里道路标线是全白色的，沙漠地貌，看不到一点植物\"\n",
    "response = pipe.pipe(user_clue)\n",
    "print(response)"
   ]
  }
 ],
 "metadata": {
  "kernelspec": {
   "display_name": "rag-project-XkUU89mO-py3.12",
   "language": "python",
   "name": "python3"
  },
  "language_info": {
   "codemirror_mode": {
    "name": "ipython",
    "version": 3
   },
   "file_extension": ".py",
   "mimetype": "text/x-python",
   "name": "python",
   "nbconvert_exporter": "python",
   "pygments_lexer": "ipython3",
   "version": "3.12.3"
  }
 },
 "nbformat": 4,
 "nbformat_minor": 2
}
