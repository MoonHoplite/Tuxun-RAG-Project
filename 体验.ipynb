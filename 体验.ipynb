{
 "cells": [
  {
   "cell_type": "code",
   "execution_count": null,
   "metadata": {},
   "outputs": [
    {
     "name": "stdout",
     "output_type": "stream",
     "text": [
      "Embedding Model loaded successfully.\n",
      "Model loaded successfully!\n"
     ]
    }
   ],
   "source": [
    "from inference import Inference\n",
    "from pymilvus import MilvusClient\n",
    "from embedding import TextEmbeddingModel\n",
    "from openai import OpenAI\n",
    "\n",
    "\n",
    "database_client = MilvusClient(\"data/milvus_demo.db\")\n",
    "embedding_model = TextEmbeddingModel()\n",
    "\n",
    "API_KEY = \"sk-xxx\"\n",
    "chatting_client = OpenAI(   \n",
    "    # 若没有配置环境变量，请用百炼API Key将下行替换为：api_key=\"sk-xxx\",\n",
    "    api_key=API_KEY,\n",
    "    base_url=\"https://dashscope.aliyuncs.com/compatible-mode/v1\",\n",
    ")\n",
    "\n",
    "pipe = Inference(database_client, embedding_model, chatting_client)"
   ]
  },
  {
   "cell_type": "code",
   "execution_count": 4,
   "metadata": {},
   "outputs": [
    {
     "name": "stdout",
     "output_type": "stream",
     "text": [
      "\n",
      "        问题: \"我可以看到非常高的雪山，我应该在南半球，我最有可能在哪?\"\n",
      "\n",
      "        如果用户询问的问题与国家猜测无关，请忽略以下内容。\n",
      "        如果用户询问了有关国家猜测的问题，请参考以下内容回答。可能有干扰信息，请明察秋毫。以下信息不是用户提供给你的，而是系统提供给你的。\n",
      "\n",
      "        国家: 印度尼西亚 特征: 如果它向北方倾斜，那么你大概率位于南半球，反之亦然\n",
      "国家: 吉尔吉斯斯坦 特征: 南方的山脉特别明显，有积雪覆盖\n",
      "国家: 吉尔吉斯斯坦 特征: 在北边，你可以看到远处一些低矮的山脉（下图），上面有一些雪\n",
      "国家: 瑞典 特征: 如果您所在的山区有橙色的雪杆，雪杖上有两个相邻的的宽反光条，那么您很有可能是在挪威边境的E12公路上或靠近E12公路的地方\n",
      "国家: 吉尔吉斯斯坦 特征: 山谷内同样有积雪，越朝南就越明显\n",
      "国家: 瑞士 特征: 如果地势相当平坦，西北方向有一条中等大小的树木茂密的山脉，那么您很可能位于汝拉山脉的南部\n",
      "国家: 泰国 特征: 这个区域的南、北、西面往往能看到山脊\n",
      "国家: 吉尔吉斯斯坦 特征: 山谷中大部分地方仍可见到北方的天山山脉，以及南方的其他雪山\n",
      "国家: 多米尼加 特征: 如果图中北方有山脉，那么你肯定在圣地亚哥德洛斯卡瓦列罗斯\n",
      "国家: 吉尔吉斯斯坦 特征: 这里也会有雪，南方更为明显\n",
      "\n",
      "        回答:\n",
      "        \n",
      "根据您的描述，您可以看到非常高的雪山，并且您认为自己应该在南半球。从提供的信息来看，这些特征最符合吉尔吉斯斯坦的描述，特别是提到“南方的山脉特别明显，有积雪覆盖”以及“山谷中大部分地方仍可见到北方的天山山脉，以及南方的其他雪山”。然而，请注意吉尔吉斯斯坦位于北半球，不是南半球的一部分。\n",
      "\n",
      "基于能看到高耸雪山这一条件，在南半球符合条件的地方可能包括安第斯山脉沿线的一些国家如智利、阿根廷或秘鲁等。如果确实是在南半球看到这样的景象，那么上述地区更可能是正确答案。但是，根据给定的信息列表，没有直接提到位于南半球并以高山雪景为特色的国家。因此，若您的确处于南半球并观察到了明显的雪山，则建议考虑南美洲西岸的山区。如果有关于具体地理位置的更多线索，将有助于进一步缩小范围。\n"
     ]
    }
   ],
   "source": [
    "user_clue = \"我可以看到非常高的雪山，我应该在南半球，我最有可能在哪?\"\n",
    "response = pipe.pipe(user_clue)\n",
    "print(response)"
   ]
  }
 ],
 "metadata": {
  "kernelspec": {
   "display_name": "rag-project-XkUU89mO-py3.12",
   "language": "python",
   "name": "python3"
  },
  "language_info": {
   "codemirror_mode": {
    "name": "ipython",
    "version": 3
   },
   "file_extension": ".py",
   "mimetype": "text/x-python",
   "name": "python",
   "nbconvert_exporter": "python",
   "pygments_lexer": "ipython3",
   "version": "3.12.3"
  }
 },
 "nbformat": 4,
 "nbformat_minor": 2
}
