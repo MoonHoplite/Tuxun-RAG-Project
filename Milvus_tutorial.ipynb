{
 "cells": [
  {
   "cell_type": "code",
   "execution_count": 1,
   "metadata": {},
   "outputs": [],
   "source": [
    "from pymilvus import MilvusClient\n",
    "from typing import Optional\n",
    "import shutil\n",
    "import json\n",
    "import numpy as np\n",
    "from uuid import uuid4\n",
    "import os\n",
    "import random"
   ]
  },
  {
   "cell_type": "code",
   "execution_count": null,
   "metadata": {},
   "outputs": [],
   "source": [
    "# remove data folder if it exists\n",
    "if \"data\" in os.listdir():\n",
    "    shutil.rmtree(\"data\")\n",
    "    \n",
    "os.mkdir(\"data\")"
   ]
  },
  {
   "cell_type": "code",
   "execution_count": null,
   "metadata": {},
   "outputs": [],
   "source": [
    "DB_PATH = \"data/milvus_demo.db\"\n",
    "TABLE_NAME = \"test_table\" \n",
    "DIM_VALUE = 10  # embedding dimension"
   ]
  },
  {
   "cell_type": "markdown",
   "metadata": {},
   "source": [
    "### Create Database and Tables"
   ]
  },
  {
   "cell_type": "code",
   "execution_count": 4,
   "metadata": {},
   "outputs": [],
   "source": [
    "client = MilvusClient(uri=DB_PATH)"
   ]
  },
  {
   "cell_type": "code",
   "execution_count": null,
   "metadata": {},
   "outputs": [],
   "source": [
    "# remove table if it exists\n",
    "if client.has_collection(collection_name=TABLE_NAME):\n",
    "    client.drop_collection(collection_name=TABLE_NAME)\n",
    "    \n",
    "\n",
    "client.create_collection(\n",
    "    collection_name=TABLE_NAME,\n",
    "    dimension=DIM_VALUE,\n",
    ")"
   ]
  },
  {
   "cell_type": "markdown",
   "metadata": {},
   "source": [
    "### Embedding"
   ]
  },
  {
   "cell_type": "code",
   "execution_count": 6,
   "metadata": {},
   "outputs": [],
   "source": [
    "class TextEmbeddingModel:\n",
    "    def __init__(self, model_name_or_path: Optional[str] = None) -> None:\n",
    "        pass\n",
    "    \n",
    "    def encode_text(self, text: str) -> list:\n",
    "        return np.random.rand(DIM_VALUE).tolist()"
   ]
  },
  {
   "cell_type": "code",
   "execution_count": 7,
   "metadata": {},
   "outputs": [
    {
     "data": {
      "text/plain": [
       "[0.6356646235284901,\n",
       " 0.8070105865996785,\n",
       " 0.3380619137061106,\n",
       " 0.3262281970361789,\n",
       " 0.9328314501186383,\n",
       " 0.04234539804552884,\n",
       " 0.705254584305317,\n",
       " 0.5708579569436718,\n",
       " 0.05624048570081808,\n",
       " 0.28315828975112567]"
      ]
     },
     "execution_count": 7,
     "metadata": {},
     "output_type": "execute_result"
    }
   ],
   "source": [
    "text_embedding_model = TextEmbeddingModel()\n",
    "text_embedding_model.encode_text(text=\"hello world\")"
   ]
  },
  {
   "cell_type": "markdown",
   "metadata": {},
   "source": [
    "### Generate Fake Data"
   ]
  },
  {
   "cell_type": "code",
   "execution_count": 8,
   "metadata": {},
   "outputs": [],
   "source": [
    "def build_fake_data() -> list:\n",
    "    random_text = [\n",
    "        \"hello world\",\n",
    "        \"good night\",\n",
    "        \"python is the best language\"\n",
    "    ] * 100\n",
    "    random_text = [i + str(uuid4()) for i in random_text]\n",
    "    data = []\n",
    "    for i, text in enumerate(random_text):\n",
    "        data.append(\n",
    "            {\n",
    "                \"id\": i,\n",
    "                \"text\": text,\n",
    "                \"vector\": text_embedding_model.encode_text(text=text),\n",
    "                \"class_v1\": random.choice(seq=[\"A\", \"B\", \"C\"]),\n",
    "                \"extra_data\": json.dumps(\n",
    "                    {\"key1\": random.randint(a=1, b=100), \"key2\": random.randint(a=1, b=100)},\n",
    "                    ensure_ascii=False\n",
    "                ),\n",
    "            }\n",
    "        )\n",
    "    return data"
   ]
  },
  {
   "cell_type": "code",
   "execution_count": 9,
   "metadata": {},
   "outputs": [],
   "source": [
    "fake_data = build_fake_data()"
   ]
  },
  {
   "cell_type": "code",
   "execution_count": 10,
   "metadata": {},
   "outputs": [
    {
     "data": {
      "text/plain": [
       "{'id': 0,\n",
       " 'text': 'hello world8415f267-5ad8-47f7-823d-a6a2853110af',\n",
       " 'vector': [0.03298326729718426,\n",
       "  0.9582191303164717,\n",
       "  0.8709208965526758,\n",
       "  0.7481400353058123,\n",
       "  0.9817916609659837,\n",
       "  0.40061512525935583,\n",
       "  0.31489820010031644,\n",
       "  0.3730439929914975,\n",
       "  0.25418375765483014,\n",
       "  0.9980153833213683],\n",
       " 'class_v1': 'C',\n",
       " 'extra_data': '{\"key1\": 76, \"key2\": 14}'}"
      ]
     },
     "execution_count": 10,
     "metadata": {},
     "output_type": "execute_result"
    }
   ],
   "source": [
    "fake_data[0]"
   ]
  },
  {
   "cell_type": "markdown",
   "metadata": {},
   "source": [
    "### Add Data to Table"
   ]
  },
  {
   "cell_type": "code",
   "execution_count": 11,
   "metadata": {},
   "outputs": [
    {
     "data": {
      "text/plain": [
       "{'insert_count': 300, 'ids': [0, 1, 2, 3, 4, 5, 6, 7, 8, 9, 10, 11, 12, 13, 14, 15, 16, 17, 18, 19, 20, 21, 22, 23, 24, 25, 26, 27, 28, 29, 30, 31, 32, 33, 34, 35, 36, 37, 38, 39, 40, 41, 42, 43, 44, 45, 46, 47, 48, 49, 50, 51, 52, 53, 54, 55, 56, 57, 58, 59, 60, 61, 62, 63, 64, 65, 66, 67, 68, 69, 70, 71, 72, 73, 74, 75, 76, 77, 78, 79, 80, 81, 82, 83, 84, 85, 86, 87, 88, 89, 90, 91, 92, 93, 94, 95, 96, 97, 98, 99, 100, 101, 102, 103, 104, 105, 106, 107, 108, 109, 110, 111, 112, 113, 114, 115, 116, 117, 118, 119, 120, 121, 122, 123, 124, 125, 126, 127, 128, 129, 130, 131, 132, 133, 134, 135, 136, 137, 138, 139, 140, 141, 142, 143, 144, 145, 146, 147, 148, 149, 150, 151, 152, 153, 154, 155, 156, 157, 158, 159, 160, 161, 162, 163, 164, 165, 166, 167, 168, 169, 170, 171, 172, 173, 174, 175, 176, 177, 178, 179, 180, 181, 182, 183, 184, 185, 186, 187, 188, 189, 190, 191, 192, 193, 194, 195, 196, 197, 198, 199, 200, 201, 202, 203, 204, 205, 206, 207, 208, 209, 210, 211, 212, 213, 214, 215, 216, 217, 218, 219, 220, 221, 222, 223, 224, 225, 226, 227, 228, 229, 230, 231, 232, 233, 234, 235, 236, 237, 238, 239, 240, 241, 242, 243, 244, 245, 246, 247, 248, 249, 250, 251, 252, 253, 254, 255, 256, 257, 258, 259, 260, 261, 262, 263, 264, 265, 266, 267, 268, 269, 270, 271, 272, 273, 274, 275, 276, 277, 278, 279, 280, 281, 282, 283, 284, 285, 286, 287, 288, 289, 290, 291, 292, 293, 294, 295, 296, 297, 298, 299], 'cost': 0}"
      ]
     },
     "execution_count": 11,
     "metadata": {},
     "output_type": "execute_result"
    }
   ],
   "source": [
    "res = client.insert(collection_name=TABLE_NAME, data=fake_data)\n",
    "\n",
    "res"
   ]
  },
  {
   "cell_type": "markdown",
   "metadata": {},
   "source": [
    "### Vector Search"
   ]
  },
  {
   "cell_type": "code",
   "execution_count": 12,
   "metadata": {},
   "outputs": [],
   "source": [
    "query_text = \"我想查找这个文本\"\n",
    "query_vector = text_embedding_model.encode_text(query_text)\n",
    "\n",
    "res = client.search(\n",
    "    collection_name=TABLE_NAME,\n",
    "    data=[query_vector],\n",
    "    top_k=5,\n",
    "    output_fields=['id', 'text', 'class_v1'],\n",
    "    filter=\"class_v1 in ['A', 'B']\",\n",
    ")"
   ]
  },
  {
   "cell_type": "code",
   "execution_count": 13,
   "metadata": {},
   "outputs": [
    {
     "data": {
      "text/plain": [
       "[{'id': 107,\n",
       "  'distance': 0.9499340057373047,\n",
       "  'entity': {'text': 'python is the best languaged405c467-6df8-4e3f-9b86-7877712b906b',\n",
       "   'class_v1': 'A',\n",
       "   'id': 107}},\n",
       " {'id': 220,\n",
       "  'distance': 0.9470595717430115,\n",
       "  'entity': {'text': 'good nightb62bbebf-7969-4337-8e79-1a05ae12f64f',\n",
       "   'class_v1': 'A',\n",
       "   'id': 220}},\n",
       " {'id': 201,\n",
       "  'distance': 0.9138093590736389,\n",
       "  'entity': {'text': 'hello world528174a5-9313-4504-b75f-127d93bce57d',\n",
       "   'class_v1': 'B',\n",
       "   'id': 201}},\n",
       " {'id': 34,\n",
       "  'distance': 0.9051440954208374,\n",
       "  'entity': {'text': 'good nightfe1e3607-2e99-49b6-a0d2-3e1be1d26052',\n",
       "   'class_v1': 'B',\n",
       "   'id': 34}},\n",
       " {'id': 70,\n",
       "  'distance': 0.9020692706108093,\n",
       "  'entity': {'text': 'good nightdb1ac57d-a875-4882-a905-59dfb0757fef',\n",
       "   'class_v1': 'B',\n",
       "   'id': 70}},\n",
       " {'id': 265,\n",
       "  'distance': 0.9014686346054077,\n",
       "  'entity': {'text': 'good nightb1beaea0-2ff7-4867-bd8f-5e681f822f3a',\n",
       "   'class_v1': 'B',\n",
       "   'id': 265}},\n",
       " {'id': 209,\n",
       "  'distance': 0.9010605812072754,\n",
       "  'entity': {'text': 'python is the best language04139f5c-4109-4891-8eb2-8077952b0e9f',\n",
       "   'class_v1': 'A',\n",
       "   'id': 209}},\n",
       " {'id': 208,\n",
       "  'distance': 0.8881660103797913,\n",
       "  'entity': {'text': 'good night8335ad51-415a-4b14-a887-c9b2009a4541',\n",
       "   'class_v1': 'A',\n",
       "   'id': 208}},\n",
       " {'id': 148,\n",
       "  'distance': 0.8865103721618652,\n",
       "  'entity': {'text': 'good nightf9920034-21d0-4d0e-9e17-b0ef842c8f2a',\n",
       "   'class_v1': 'A',\n",
       "   'id': 148}},\n",
       " {'id': 19,\n",
       "  'distance': 0.8846675753593445,\n",
       "  'entity': {'text': 'good night23275caf-5706-49d2-8089-4a55dcaf90ce',\n",
       "   'class_v1': 'B',\n",
       "   'id': 19}}]"
      ]
     },
     "execution_count": 13,
     "metadata": {},
     "output_type": "execute_result"
    }
   ],
   "source": [
    "res[0]"
   ]
  },
  {
   "cell_type": "code",
   "execution_count": null,
   "metadata": {},
   "outputs": [],
   "source": [
    "from sentence_transformers import SentenceTransformer\n",
    "\n",
    "model = SentenceTransformer(\"maidalun1020/bce-embedding-base_v1\")"
   ]
  }
 ],
 "metadata": {
  "kernelspec": {
   "display_name": "rag-project-XkUU89mO-py3.12",
   "language": "python",
   "name": "python3"
  },
  "language_info": {
   "codemirror_mode": {
    "name": "ipython",
    "version": 3
   },
   "file_extension": ".py",
   "mimetype": "text/x-python",
   "name": "python",
   "nbconvert_exporter": "python",
   "pygments_lexer": "ipython3",
   "version": "3.12.3"
  }
 },
 "nbformat": 4,
 "nbformat_minor": 2
}
